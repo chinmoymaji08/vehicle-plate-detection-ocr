{
 "cells": [
  {
   "cell_type": "markdown",
   "id": "4f58cf47",
   "metadata": {},
   "source": [
    "# License Plate Recognition - Full Pipeline\n",
    "\n",
    "This notebook implements a complete pipeline for detecting and recognizing vehicle license plates using deep learning. It includes preprocessing, training, and inference steps."
   ]
  },
  {
   "cell_type": "markdown",
   "id": "d04ae691",
   "metadata": {},
   "source": [
    "## 1. Imports and Setup"
   ]
  },
  {
   "cell_type": "code",
   "execution_count": null,
   "id": "fdd076a4",
   "metadata": {},
   "outputs": [],
   "source": [
    "\n",
    "import os\n",
    "import sys\n",
    "import cv2\n",
    "import numpy as np\n",
    "import pandas as pd\n",
    "import matplotlib.pyplot as plt\n",
    "from tensorflow.keras.models import load_model\n",
    "\n",
    "sys.path.append(os.path.abspath(\"../src\"))\n"
   ]
  },
  {
   "cell_type": "markdown",
   "id": "73dd7eec",
   "metadata": {},
   "source": [
    "## 2. Load Dataset Metadata"
   ]
  },
  {
   "cell_type": "code",
   "execution_count": null,
   "id": "7fd1fee6",
   "metadata": {},
   "outputs": [],
   "source": [
    "\n",
    "detection_df = pd.read_csv(r\"C:/Users/chinm/License Plate Recognition/data/Licplatesdetection_train.csv\")\n",
    "recognition_df = pd.read_csv(r\"C:/Users/chinm/License Plate Recognition/data/Licplatesrecognition_train.csv\")\n"
   ]
  },
  {
   "cell_type": "markdown",
   "id": "579e5510",
   "metadata": {},
   "source": [
    "## 3. Load Trained Models"
   ]
  },
  {
   "cell_type": "code",
   "execution_count": null,
   "id": "82a4efb2",
   "metadata": {},
   "outputs": [],
   "source": [
    "\n",
    "from tensorflow.keras.models import load_model\n",
    "\n",
    "detection_model = r\"C:/Users/chinm/License Plate Recognition/outputs/detection_model.h5\"\n",
    "recognition_model = load_model(r\"C:/Users/chinm/License Plate Recognition/outputs/recognition_model.keras\")\n"
   ]
  },
  {
   "cell_type": "markdown",
   "id": "7627d0ca",
   "metadata": {},
   "source": [
    "## 4. Character Mappings"
   ]
  },
  {
   "cell_type": "code",
   "execution_count": null,
   "id": "d6d9fa33",
   "metadata": {},
   "outputs": [],
   "source": [
    "\n",
    "import string\n",
    "\n",
    "# This mapping should match your recognition model training\n",
    "all_text = ''.join(recognition_df['text'].astype(str).tolist())\n",
    "unique_chars = sorted(set(all_text))\n",
    "idx_to_char = {i + 1: c for i, c in enumerate(unique_chars)}\n",
    "idx_to_char[0] = ''  # blank for padding\n",
    "char_to_idx = {v: k for k, v in idx_to_char.items()}\n",
    "np.save(\"idx_to_char.npy\", idx_to_char)\n",
    "\n",
    "max_length = recognition_model.output_shape[1]\n"
   ]
  },
  {
   "cell_type": "markdown",
   "id": "a2d05a7d",
   "metadata": {},
   "source": [
    "## 5. Initialize Inference Pipeline"
   ]
  },
  {
   "cell_type": "code",
   "execution_count": null,
   "id": "c810bac7",
   "metadata": {},
   "outputs": [],
   "source": [
    "\n",
    "from src.inference.pipeline import LicensePlateRecognitionPipeline\n",
    "\n",
    "pipeline = LicensePlateRecognitionPipeline(\n",
    "    detection_model=detection_model,\n",
    "    recognition_model=recognition_model,\n",
    "    idx_to_char=idx_to_char,\n",
    "    max_length=max_length\n",
    ")\n"
   ]
  },
  {
   "cell_type": "markdown",
   "id": "800f4a61",
   "metadata": {},
   "source": [
    "## 6. Inference on a Sample Image"
   ]
  },
  {
   "cell_type": "code",
   "execution_count": null,
   "id": "e454523f",
   "metadata": {},
   "outputs": [],
   "source": [
    "\n",
    "from src.inference.pipeline import run_inference_pipeline\n",
    "\n",
    "image_path = r\"C:/Users/chinm/License Plate Recognition/data/test/901.jpg\"\n",
    "result_img, license_text, confidence = run_inference_pipeline(pipeline, image_path)\n",
    "\n",
    "plt.imshow(cv2.cvtColor(result_img, cv2.COLOR_BGR2RGB))\n",
    "plt.title(f\"Prediction: {license_text} (Confidence: {confidence:.2f})\")\n",
    "plt.axis(\"off\")\n",
    "plt.show()\n"
   ]
  },
  {
   "cell_type": "markdown",
   "id": "d3731e3b",
   "metadata": {},
   "source": [
    "## 7. Run Inference on Test Set"
   ]
  },
  {
   "cell_type": "code",
   "execution_count": null,
   "id": "31776574",
   "metadata": {},
   "outputs": [],
   "source": [
    "\n",
    "import glob\n",
    "\n",
    "test_dir = r\"C:/Users/chinm/License Plate Recognition/data/test\"\n",
    "image_files = sorted(glob.glob(os.path.join(test_dir, \"*.jpg\")))\n",
    "\n",
    "for img_path in image_files:\n",
    "    try:\n",
    "        result_img, text, conf = run_inference_pipeline(pipeline, img_path)\n",
    "        print(f\"{os.path.basename(img_path)} ➤ Prediction: {text} (Confidence: {conf:.2f})\")\n",
    "    except Exception as e:\n",
    "        print(f\"[ERROR] {os.path.basename(img_path)} ➤ {str(e)}\")\n"
   ]
  }
 ],
 "metadata": {},
 "nbformat": 4,
 "nbformat_minor": 5
}
